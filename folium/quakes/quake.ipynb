{
 "cells": [
  {
   "cell_type": "code",
   "execution_count": 1,
   "metadata": {},
   "outputs": [],
   "source": [
    "import os\n",
    "import requests\n",
    "\n",
    "import geopandas as gpd\n",
    "import geojsonio\n",
    "\n",
    "import pandas as pd\n",
    "from pandas.io.json import json_normalize\n",
    "\n",
    "import folium\n",
    "from folium import plugins"
   ]
  },
  {
   "cell_type": "markdown",
   "metadata": {},
   "source": [
    "## Schema of data"
   ]
  },
  {
   "cell_type": "raw",
   "metadata": {},
   "source": [
    "schema = {\n",
    "  type: \"FeatureCollection\",\n",
    "  metadata: {\n",
    "    generated: Long Integer,\n",
    "    url: String,\n",
    "    title: String,\n",
    "    api: String,\n",
    "    count: Integer,\n",
    "    status: Integer\n",
    "  },\n",
    "  bbox: [\n",
    "    minimum longitude,\n",
    "    minimum latitude,\n",
    "    minimum depth,\n",
    "    maximum longitude,\n",
    "    maximum latitude,\n",
    "    maximum depth\n",
    "  ],\n",
    "  features: [\n",
    "    {\n",
    "      type: \"Feature\",\n",
    "      properties: {\n",
    "        mag: Decimal,\n",
    "        place: String,\n",
    "        time: Long Integer,\n",
    "        updated: Long Integer,\n",
    "        tz: Integer,\n",
    "        url: String,\n",
    "        detail: String,\n",
    "        felt:Integer,\n",
    "        cdi: Decimal,\n",
    "        mmi: Decimal,\n",
    "        alert: String,\n",
    "        status: String,\n",
    "        tsunami: Integer,\n",
    "        sig:Integer,\n",
    "        net: String,\n",
    "        code: String,\n",
    "        ids: String,\n",
    "        sources: String,\n",
    "        types: String,\n",
    "        nst: Integer,\n",
    "        dmin: Decimal,\n",
    "        rms: Decimal,\n",
    "        gap: Decimal,\n",
    "        magType: String,\n",
    "        type: String\n",
    "      },\n",
    "      geometry: {\n",
    "        type: \"Point\",\n",
    "        coordinates: [\n",
    "          longitude,\n",
    "          latitude,\n",
    "          depth\n",
    "        ]\n",
    "      },\n",
    "      id: String\n",
    "    },\n",
    "    …\n",
    "  ]\n",
    "}"
   ]
  },
  {
   "cell_type": "markdown",
   "metadata": {},
   "source": [
    "## Getting data"
   ]
  },
  {
   "cell_type": "code",
   "execution_count": 7,
   "metadata": {},
   "outputs": [],
   "source": [
    "# Option 1 is preferred: live data fed straight in\n",
    "r = requests.get(\"https://earthquake.usgs.gov/earthquakes/feed/v1.0/summary/2.5_day.geojson\")\n",
    "data = r.json()"
   ]
  },
  {
   "cell_type": "code",
   "execution_count": 3,
   "metadata": {},
   "outputs": [],
   "source": [
    "# Option 2 - load a csv that was downloaded and saved before (used for the getting the folium map up intially)\n",
    "# data = pd.read_csv('~/Code/Pybraries/folium/quakes/data/2.5_month.csv')"
   ]
  },
  {
   "cell_type": "code",
   "execution_count": 4,
   "metadata": {},
   "outputs": [],
   "source": [
    "#data"
   ]
  },
  {
   "cell_type": "markdown",
   "metadata": {},
   "source": [
    "## Parsing the data"
   ]
  },
  {
   "cell_type": "code",
   "execution_count": 8,
   "metadata": {
    "scrolled": true
   },
   "outputs": [],
   "source": [
    "# quake_data = pd.json_normalize(r.json())\n",
    "# quake_data"
   ]
  },
  {
   "cell_type": "code",
   "execution_count": 9,
   "metadata": {},
   "outputs": [],
   "source": [
    "quakes = pd.json_normalize(data=data['features'], meta=['mag','place','time','updated','tz','url','detail','felt','cdi','mmi','alert','status','tsunami','sig','net','code','ids','sources','types','nst','dmin','rms','gap','magType'])"
   ]
  },
  {
   "cell_type": "markdown",
   "metadata": {},
   "source": [
    "Ditch the columns I don't need"
   ]
  },
  {
   "cell_type": "code",
   "execution_count": null,
   "metadata": {
    "scrolled": true
   },
   "outputs": [],
   "source": [
    "quakes.columns = quakes.columns.map(lambda x: x.split(\".\")[-1])\n",
    "\n",
    "quakes.drop(['type', 'updated', 'tz', 'url', 'detail', 'felt', 'cdi', 'mmi', 'alert', 'status', 'net', \n",
    "                     'code', 'sources', 'types', 'nst', 'dmin', 'rms', 'gap', 'magType' ], axis=1, inplace=True)"
   ]
  },
  {
   "cell_type": "markdown",
   "metadata": {},
   "source": [
    "Breakout the coords column"
   ]
  },
  {
   "cell_type": "code",
   "execution_count": null,
   "metadata": {},
   "outputs": [],
   "source": [
    "quakes['longitude'] = quakes.coordinates.str[0]\n",
    "quakes['latitude'] = quakes.coordinates.str[1]\n",
    "quakes['depth'] = quakes.coordinates.str[2]\n",
    "\n",
    "quakes.drop(['coordinates', 'title'], axis=1, inplace=True)\n"
   ]
  },
  {
   "cell_type": "markdown",
   "metadata": {},
   "source": [
    "Figure out how to get time to display"
   ]
  },
  {
   "cell_type": "code",
   "execution_count": null,
   "metadata": {},
   "outputs": [],
   "source": [
    "# quakes['datetime'] = pd.to_datetime(['time'], unit='s')\n",
    "# quakes['datetime'] = pd.to_datetime(quakes[\"time\"], unit='s')\n",
    "\n",
    "quakes['datetime'] = pd.to_datetime(quakes['time'], infer_datetime_format=True) \n",
    "quakes.drop(['time'], axis=1, inplace=True)"
   ]
  },
  {
   "cell_type": "code",
   "execution_count": null,
   "metadata": {},
   "outputs": [],
   "source": [
    "quakes.round({'longitude': 5, 'latitude': 5, 'depth': 0})\n",
    "quakes.head(2)"
   ]
  },
  {
   "cell_type": "code",
   "execution_count": null,
   "metadata": {},
   "outputs": [],
   "source": [
    "m = folium.Map(\n",
    "    location=[0, 0],\n",
    "    tiles='cartodbpositron',\n",
    "    zoom_start=1.5\n",
    ")\n",
    "\n"
   ]
  },
  {
   "cell_type": "code",
   "execution_count": null,
   "metadata": {},
   "outputs": [],
   "source": [
    "for i, row in quakes.iterrows():\n",
    "    folium.CircleMarker((row.latitude, row.longitude), radius=row.mag*2.2, \n",
    "                        color='red', weight = 0, opacity =.4, fill=True, fill_color='orange', fill_opacity=.3, \n",
    "                        popup=[f\"Time:{row.datetime},\\n Mag: {row.mag},\\n Depth: {row.depth} km\"]).add_to(m)\n",
    "    "
   ]
  },
  {
   "cell_type": "code",
   "execution_count": null,
   "metadata": {
    "scrolled": false
   },
   "outputs": [],
   "source": [
    "boundaries = ('data/PB2002_boundaries.json')\n",
    "line_style = {'color': '#FF3333', 'weight': 1, 'opacity':row.mag*1.4}\n",
    "\n",
    "\n",
    "folium.GeoJson(\n",
    "    boundaries,\n",
    "    name='major fault lines',\n",
    "    style_function=lambda x:line_style,\n",
    "    smooth_factor=4.0,\n",
    "      \n",
    ").add_to(m)\n",
    "m"
   ]
  },
  {
   "cell_type": "code",
   "execution_count": null,
   "metadata": {
    "scrolled": true
   },
   "outputs": [],
   "source": []
  },
  {
   "cell_type": "code",
   "execution_count": null,
   "metadata": {},
   "outputs": [],
   "source": []
  },
  {
   "cell_type": "code",
   "execution_count": null,
   "metadata": {},
   "outputs": [],
   "source": []
  }
 ],
 "metadata": {
  "kernelspec": {
   "display_name": "Python 3",
   "language": "python",
   "name": "python3"
  },
  "language_info": {
   "codemirror_mode": {
    "name": "ipython",
    "version": 3
   },
   "file_extension": ".py",
   "mimetype": "text/x-python",
   "name": "python",
   "nbconvert_exporter": "python",
   "pygments_lexer": "ipython3",
   "version": "3.8.2"
  }
 },
 "nbformat": 4,
 "nbformat_minor": 4
}
