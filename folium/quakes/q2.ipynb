{
 "cells": [
  {
   "cell_type": "code",
   "execution_count": 1,
   "metadata": {},
   "outputs": [],
   "source": [
    "import os\n",
    "import requests\n",
    "from datetime import datetime\n",
    "\n",
    "import geopandas as gpd\n",
    "import geojsonio\n",
    "\n",
    "import pandas as pd\n",
    "from pandas.io.json import json_normalize\n",
    "\n",
    "import folium\n",
    "from folium import plugins"
   ]
  },
  {
   "cell_type": "markdown",
   "metadata": {},
   "source": [
    "# USGS GeoJSON format"
   ]
  },
  {
   "cell_type": "markdown",
   "metadata": {},
   "source": [
    "schema = {\n",
    "  type: \"FeatureCollection\",\n",
    "  metadata: {\n",
    "    generated: Long Integer,\n",
    "    url: String,\n",
    "    title: String,\n",
    "    api: String,\n",
    "    count: Integer,\n",
    "    status: Integer\n",
    "  },\n",
    "  bbox: [\n",
    "    minimum longitude,\n",
    "    minimum latitude,\n",
    "    minimum depth,\n",
    "    maximum longitude,\n",
    "    maximum latitude,\n",
    "    maximum depth\n",
    "  ],\n",
    "  features: [\n",
    "    {\n",
    "      type: \"Feature\",\n",
    "      properties: {\n",
    "        mag: Decimal,\n",
    "        place: String,\n",
    "        time: Long Integer,\n",
    "        updated: Long Integer,\n",
    "        tz: Integer,\n",
    "        url: String,\n",
    "        detail: String,\n",
    "        felt:Integer,\n",
    "        cdi: Decimal,\n",
    "        mmi: Decimal,\n",
    "        alert: String,\n",
    "        status: String,\n",
    "        tsunami: Integer,\n",
    "        sig:Integer,\n",
    "        net: String,\n",
    "        code: String,\n",
    "        ids: String,\n",
    "        sources: String,\n",
    "        types: String,\n",
    "        nst: Integer,\n",
    "        dmin: Decimal,\n",
    "        rms: Decimal,\n",
    "        gap: Decimal,\n",
    "        magType: String,\n",
    "        type: String\n",
    "      },\n",
    "      geometry: {\n",
    "        type: \"Point\",\n",
    "        coordinates: [\n",
    "          longitude,\n",
    "          latitude,\n",
    "          depth\n",
    "        ]\n",
    "      },\n",
    "      id: String\n",
    "    },\n",
    "    …\n",
    "  ]\n",
    "}"
   ]
  },
  {
   "cell_type": "markdown",
   "metadata": {},
   "source": [
    "## Getting data"
   ]
  },
  {
   "cell_type": "code",
   "execution_count": 2,
   "metadata": {},
   "outputs": [],
   "source": [
    "data = requests.get(\"https://earthquake.usgs.gov/earthquakes/feed/v1.0/summary/2.5_day.geojson\")\n",
    "jsondata = data.json()\n",
    "df = pd.json_normalize(jsondata['features'])"
   ]
  },
  {
   "cell_type": "code",
   "execution_count": 3,
   "metadata": {},
   "outputs": [
    {
     "data": {
      "text/html": [
       "<div>\n",
       "<style scoped>\n",
       "    .dataframe tbody tr th:only-of-type {\n",
       "        vertical-align: middle;\n",
       "    }\n",
       "\n",
       "    .dataframe tbody tr th {\n",
       "        vertical-align: top;\n",
       "    }\n",
       "\n",
       "    .dataframe thead th {\n",
       "        text-align: right;\n",
       "    }\n",
       "</style>\n",
       "<table border=\"1\" class=\"dataframe\">\n",
       "  <thead>\n",
       "    <tr style=\"text-align: right;\">\n",
       "      <th></th>\n",
       "      <th>type</th>\n",
       "      <th>id</th>\n",
       "      <th>properties.mag</th>\n",
       "      <th>properties.place</th>\n",
       "      <th>properties.time</th>\n",
       "      <th>properties.updated</th>\n",
       "      <th>properties.tz</th>\n",
       "      <th>properties.url</th>\n",
       "      <th>properties.detail</th>\n",
       "      <th>properties.felt</th>\n",
       "      <th>...</th>\n",
       "      <th>properties.types</th>\n",
       "      <th>properties.nst</th>\n",
       "      <th>properties.dmin</th>\n",
       "      <th>properties.rms</th>\n",
       "      <th>properties.gap</th>\n",
       "      <th>properties.magType</th>\n",
       "      <th>properties.type</th>\n",
       "      <th>properties.title</th>\n",
       "      <th>geometry.type</th>\n",
       "      <th>geometry.coordinates</th>\n",
       "    </tr>\n",
       "  </thead>\n",
       "  <tbody>\n",
       "    <tr>\n",
       "      <th>0</th>\n",
       "      <td>Feature</td>\n",
       "      <td>us6000dhz0</td>\n",
       "      <td>4.9</td>\n",
       "      <td>206 km WSW of Bandar Lampung, Indonesia</td>\n",
       "      <td>1613452223356</td>\n",
       "      <td>1613453283040</td>\n",
       "      <td>None</td>\n",
       "      <td>https://earthquake.usgs.gov/earthquakes/eventp...</td>\n",
       "      <td>https://earthquake.usgs.gov/earthquakes/feed/v...</td>\n",
       "      <td>NaN</td>\n",
       "      <td>...</td>\n",
       "      <td>,origin,phase-data,</td>\n",
       "      <td>NaN</td>\n",
       "      <td>1.993</td>\n",
       "      <td>0.66</td>\n",
       "      <td>151.0</td>\n",
       "      <td>mb</td>\n",
       "      <td>earthquake</td>\n",
       "      <td>M 4.9 - 206 km WSW of Bandar Lampung, Indonesia</td>\n",
       "      <td>Point</td>\n",
       "      <td>[103.5916, -6.2629, 34.78]</td>\n",
       "    </tr>\n",
       "    <tr>\n",
       "      <th>1</th>\n",
       "      <td>Feature</td>\n",
       "      <td>us6000dhys</td>\n",
       "      <td>5.0</td>\n",
       "      <td>67 km WSW of Port-Vila, Vanuatu</td>\n",
       "      <td>1613450658452</td>\n",
       "      <td>1613454902861</td>\n",
       "      <td>None</td>\n",
       "      <td>https://earthquake.usgs.gov/earthquakes/eventp...</td>\n",
       "      <td>https://earthquake.usgs.gov/earthquakes/feed/v...</td>\n",
       "      <td>0.0</td>\n",
       "      <td>...</td>\n",
       "      <td>,dyfi,origin,phase-data,</td>\n",
       "      <td>NaN</td>\n",
       "      <td>4.145</td>\n",
       "      <td>1.02</td>\n",
       "      <td>37.0</td>\n",
       "      <td>mb</td>\n",
       "      <td>earthquake</td>\n",
       "      <td>M 5.0 - 67 km WSW of Port-Vila, Vanuatu</td>\n",
       "      <td>Point</td>\n",
       "      <td>[167.7219, -17.9585, 10]</td>\n",
       "    </tr>\n",
       "    <tr>\n",
       "      <th>2</th>\n",
       "      <td>Feature</td>\n",
       "      <td>us6000dhyh</td>\n",
       "      <td>4.1</td>\n",
       "      <td>167 km WSW of Colchani, Bolivia</td>\n",
       "      <td>1613447372717</td>\n",
       "      <td>1613450343040</td>\n",
       "      <td>None</td>\n",
       "      <td>https://earthquake.usgs.gov/earthquakes/eventp...</td>\n",
       "      <td>https://earthquake.usgs.gov/earthquakes/feed/v...</td>\n",
       "      <td>NaN</td>\n",
       "      <td>...</td>\n",
       "      <td>,origin,phase-data,</td>\n",
       "      <td>NaN</td>\n",
       "      <td>0.926</td>\n",
       "      <td>0.48</td>\n",
       "      <td>111.0</td>\n",
       "      <td>mb</td>\n",
       "      <td>earthquake</td>\n",
       "      <td>M 4.1 - 167 km WSW of Colchani, Bolivia</td>\n",
       "      <td>Point</td>\n",
       "      <td>[-68.4543, -20.7995, 168.45]</td>\n",
       "    </tr>\n",
       "  </tbody>\n",
       "</table>\n",
       "<p>3 rows × 30 columns</p>\n",
       "</div>"
      ],
      "text/plain": [
       "      type          id  properties.mag  \\\n",
       "0  Feature  us6000dhz0             4.9   \n",
       "1  Feature  us6000dhys             5.0   \n",
       "2  Feature  us6000dhyh             4.1   \n",
       "\n",
       "                          properties.place  properties.time  \\\n",
       "0  206 km WSW of Bandar Lampung, Indonesia    1613452223356   \n",
       "1          67 km WSW of Port-Vila, Vanuatu    1613450658452   \n",
       "2          167 km WSW of Colchani, Bolivia    1613447372717   \n",
       "\n",
       "   properties.updated properties.tz  \\\n",
       "0       1613453283040          None   \n",
       "1       1613454902861          None   \n",
       "2       1613450343040          None   \n",
       "\n",
       "                                      properties.url  \\\n",
       "0  https://earthquake.usgs.gov/earthquakes/eventp...   \n",
       "1  https://earthquake.usgs.gov/earthquakes/eventp...   \n",
       "2  https://earthquake.usgs.gov/earthquakes/eventp...   \n",
       "\n",
       "                                   properties.detail  properties.felt  ...  \\\n",
       "0  https://earthquake.usgs.gov/earthquakes/feed/v...              NaN  ...   \n",
       "1  https://earthquake.usgs.gov/earthquakes/feed/v...              0.0  ...   \n",
       "2  https://earthquake.usgs.gov/earthquakes/feed/v...              NaN  ...   \n",
       "\n",
       "           properties.types  properties.nst properties.dmin properties.rms  \\\n",
       "0       ,origin,phase-data,             NaN           1.993           0.66   \n",
       "1  ,dyfi,origin,phase-data,             NaN           4.145           1.02   \n",
       "2       ,origin,phase-data,             NaN           0.926           0.48   \n",
       "\n",
       "   properties.gap  properties.magType properties.type  \\\n",
       "0           151.0                  mb      earthquake   \n",
       "1            37.0                  mb      earthquake   \n",
       "2           111.0                  mb      earthquake   \n",
       "\n",
       "                                  properties.title geometry.type  \\\n",
       "0  M 4.9 - 206 km WSW of Bandar Lampung, Indonesia         Point   \n",
       "1          M 5.0 - 67 km WSW of Port-Vila, Vanuatu         Point   \n",
       "2          M 4.1 - 167 km WSW of Colchani, Bolivia         Point   \n",
       "\n",
       "           geometry.coordinates  \n",
       "0    [103.5916, -6.2629, 34.78]  \n",
       "1      [167.7219, -17.9585, 10]  \n",
       "2  [-68.4543, -20.7995, 168.45]  \n",
       "\n",
       "[3 rows x 30 columns]"
      ]
     },
     "execution_count": 3,
     "metadata": {},
     "output_type": "execute_result"
    }
   ],
   "source": [
    "df.head(3)"
   ]
  },
  {
   "cell_type": "markdown",
   "metadata": {},
   "source": [
    "# Cleaning the data"
   ]
  },
  {
   "cell_type": "markdown",
   "metadata": {},
   "source": [
    "Some of these fields are essientially useless in all cases. For example, geometry type. All of them are points by schema definition.\n",
    "\n",
    "A couple are just redundant. For example title is just 'mag' plus 'place'\n",
    "\n",
    "Some are probably useless but *might* be useful, particularly if we apply a ML model to it later. So, I'll keep them for now. But the subfeatures of 'properties' and 'geometry' have to go"
   ]
  },
  {
   "cell_type": "code",
   "execution_count": 4,
   "metadata": {},
   "outputs": [
    {
     "name": "stderr",
     "output_type": "stream",
     "text": [
      "<ipython-input-4-d58c6ff40168>:1: FutureWarning: The default value of regex will change from True to False in a future version.\n",
      "  df.columns = df.columns.str.replace('properties.', \"\")\n",
      "<ipython-input-4-d58c6ff40168>:2: FutureWarning: The default value of regex will change from True to False in a future version.\n",
      "  df.columns = df.columns.str.replace('geometry.', \"\")\n"
     ]
    }
   ],
   "source": [
    "df.columns = df.columns.str.replace('properties.', \"\")\n",
    "df.columns = df.columns.str.replace('geometry.', \"\")\n",
    "df.drop(['id', 'type', 'updated', 'tz', 'mmi', 'detail', 'felt','cdi', 'felt', 'types', 'nst', 'type', 'title'], \n",
    "        axis=1, inplace=True)"
   ]
  },
  {
   "cell_type": "code",
   "execution_count": 5,
   "metadata": {},
   "outputs": [
    {
     "data": {
      "text/html": [
       "<div>\n",
       "<style scoped>\n",
       "    .dataframe tbody tr th:only-of-type {\n",
       "        vertical-align: middle;\n",
       "    }\n",
       "\n",
       "    .dataframe tbody tr th {\n",
       "        vertical-align: top;\n",
       "    }\n",
       "\n",
       "    .dataframe thead th {\n",
       "        text-align: right;\n",
       "    }\n",
       "</style>\n",
       "<table border=\"1\" class=\"dataframe\">\n",
       "  <thead>\n",
       "    <tr style=\"text-align: right;\">\n",
       "      <th></th>\n",
       "      <th>mag</th>\n",
       "      <th>place</th>\n",
       "      <th>time</th>\n",
       "      <th>url</th>\n",
       "      <th>alert</th>\n",
       "      <th>status</th>\n",
       "      <th>tsunami</th>\n",
       "      <th>sig</th>\n",
       "      <th>net</th>\n",
       "      <th>code</th>\n",
       "      <th>ids</th>\n",
       "      <th>sources</th>\n",
       "      <th>dmin</th>\n",
       "      <th>rms</th>\n",
       "      <th>gap</th>\n",
       "      <th>magType</th>\n",
       "      <th>coordinates</th>\n",
       "    </tr>\n",
       "  </thead>\n",
       "  <tbody>\n",
       "    <tr>\n",
       "      <th>0</th>\n",
       "      <td>4.9</td>\n",
       "      <td>206 km WSW of Bandar Lampung, Indonesia</td>\n",
       "      <td>1613452223356</td>\n",
       "      <td>https://earthquake.usgs.gov/earthquakes/eventp...</td>\n",
       "      <td>None</td>\n",
       "      <td>reviewed</td>\n",
       "      <td>0</td>\n",
       "      <td>369</td>\n",
       "      <td>us</td>\n",
       "      <td>6000dhz0</td>\n",
       "      <td>,us6000dhz0,</td>\n",
       "      <td>,us,</td>\n",
       "      <td>1.993</td>\n",
       "      <td>0.66</td>\n",
       "      <td>151.0</td>\n",
       "      <td>mb</td>\n",
       "      <td>[103.5916, -6.2629, 34.78]</td>\n",
       "    </tr>\n",
       "    <tr>\n",
       "      <th>1</th>\n",
       "      <td>5.0</td>\n",
       "      <td>67 km WSW of Port-Vila, Vanuatu</td>\n",
       "      <td>1613450658452</td>\n",
       "      <td>https://earthquake.usgs.gov/earthquakes/eventp...</td>\n",
       "      <td>None</td>\n",
       "      <td>reviewed</td>\n",
       "      <td>0</td>\n",
       "      <td>385</td>\n",
       "      <td>us</td>\n",
       "      <td>6000dhys</td>\n",
       "      <td>,us6000dhys,</td>\n",
       "      <td>,us,</td>\n",
       "      <td>4.145</td>\n",
       "      <td>1.02</td>\n",
       "      <td>37.0</td>\n",
       "      <td>mb</td>\n",
       "      <td>[167.7219, -17.9585, 10]</td>\n",
       "    </tr>\n",
       "    <tr>\n",
       "      <th>2</th>\n",
       "      <td>4.1</td>\n",
       "      <td>167 km WSW of Colchani, Bolivia</td>\n",
       "      <td>1613447372717</td>\n",
       "      <td>https://earthquake.usgs.gov/earthquakes/eventp...</td>\n",
       "      <td>None</td>\n",
       "      <td>reviewed</td>\n",
       "      <td>0</td>\n",
       "      <td>259</td>\n",
       "      <td>us</td>\n",
       "      <td>6000dhyh</td>\n",
       "      <td>,us6000dhyh,</td>\n",
       "      <td>,us,</td>\n",
       "      <td>0.926</td>\n",
       "      <td>0.48</td>\n",
       "      <td>111.0</td>\n",
       "      <td>mb</td>\n",
       "      <td>[-68.4543, -20.7995, 168.45]</td>\n",
       "    </tr>\n",
       "  </tbody>\n",
       "</table>\n",
       "</div>"
      ],
      "text/plain": [
       "   mag                                    place           time  \\\n",
       "0  4.9  206 km WSW of Bandar Lampung, Indonesia  1613452223356   \n",
       "1  5.0          67 km WSW of Port-Vila, Vanuatu  1613450658452   \n",
       "2  4.1          167 km WSW of Colchani, Bolivia  1613447372717   \n",
       "\n",
       "                                                 url alert    status  tsunami  \\\n",
       "0  https://earthquake.usgs.gov/earthquakes/eventp...  None  reviewed        0   \n",
       "1  https://earthquake.usgs.gov/earthquakes/eventp...  None  reviewed        0   \n",
       "2  https://earthquake.usgs.gov/earthquakes/eventp...  None  reviewed        0   \n",
       "\n",
       "   sig net      code           ids sources   dmin   rms    gap magType  \\\n",
       "0  369  us  6000dhz0  ,us6000dhz0,    ,us,  1.993  0.66  151.0      mb   \n",
       "1  385  us  6000dhys  ,us6000dhys,    ,us,  4.145  1.02   37.0      mb   \n",
       "2  259  us  6000dhyh  ,us6000dhyh,    ,us,  0.926  0.48  111.0      mb   \n",
       "\n",
       "                    coordinates  \n",
       "0    [103.5916, -6.2629, 34.78]  \n",
       "1      [167.7219, -17.9585, 10]  \n",
       "2  [-68.4543, -20.7995, 168.45]  "
      ]
     },
     "execution_count": 5,
     "metadata": {},
     "output_type": "execute_result"
    }
   ],
   "source": [
    "df.head(3)"
   ]
  },
  {
   "cell_type": "code",
   "execution_count": null,
   "metadata": {},
   "outputs": [],
   "source": []
  },
  {
   "cell_type": "code",
   "execution_count": 7,
   "metadata": {},
   "outputs": [],
   "source": [
    "df['time'] = pd.to_datetime(df['time'], unit='ms')\n"
   ]
  },
  {
   "cell_type": "code",
   "execution_count": null,
   "metadata": {},
   "outputs": [],
   "source": []
  },
  {
   "cell_type": "markdown",
   "metadata": {},
   "source": [
    "## Parsing the data"
   ]
  },
  {
   "cell_type": "code",
   "execution_count": 8,
   "metadata": {},
   "outputs": [
    {
     "ename": "TypeError",
     "evalue": "'Response' object is not subscriptable",
     "output_type": "error",
     "traceback": [
      "\u001b[0;31m---------------------------------------------------------------------------\u001b[0m",
      "\u001b[0;31mTypeError\u001b[0m                                 Traceback (most recent call last)",
      "\u001b[0;32m<ipython-input-8-21a52f849575>\u001b[0m in \u001b[0;36m<module>\u001b[0;34m\u001b[0m\n\u001b[0;32m----> 1\u001b[0;31m \u001b[0mquakes\u001b[0m \u001b[0;34m=\u001b[0m \u001b[0mpd\u001b[0m\u001b[0;34m.\u001b[0m\u001b[0mjson_normalize\u001b[0m\u001b[0;34m(\u001b[0m\u001b[0mdata\u001b[0m\u001b[0;34m=\u001b[0m\u001b[0mdata\u001b[0m\u001b[0;34m[\u001b[0m\u001b[0;34m'features'\u001b[0m\u001b[0;34m]\u001b[0m\u001b[0;34m,\u001b[0m \u001b[0mmeta\u001b[0m\u001b[0;34m=\u001b[0m\u001b[0;34m[\u001b[0m\u001b[0;34m'mag'\u001b[0m\u001b[0;34m,\u001b[0m\u001b[0;34m'place'\u001b[0m\u001b[0;34m,\u001b[0m\u001b[0;34m'time'\u001b[0m\u001b[0;34m,\u001b[0m\u001b[0;34m'updated'\u001b[0m\u001b[0;34m,\u001b[0m\u001b[0;34m'tz'\u001b[0m\u001b[0;34m,\u001b[0m\u001b[0;34m'url'\u001b[0m\u001b[0;34m,\u001b[0m\u001b[0;34m'detail'\u001b[0m\u001b[0;34m,\u001b[0m\u001b[0;34m'felt'\u001b[0m\u001b[0;34m,\u001b[0m\u001b[0;34m'cdi'\u001b[0m\u001b[0;34m,\u001b[0m\u001b[0;34m'mmi'\u001b[0m\u001b[0;34m,\u001b[0m\u001b[0;34m'alert'\u001b[0m\u001b[0;34m,\u001b[0m\u001b[0;34m'status'\u001b[0m\u001b[0;34m,\u001b[0m\u001b[0;34m'tsunami'\u001b[0m\u001b[0;34m,\u001b[0m\u001b[0;34m'sig'\u001b[0m\u001b[0;34m,\u001b[0m\u001b[0;34m'net'\u001b[0m\u001b[0;34m,\u001b[0m\u001b[0;34m'code'\u001b[0m\u001b[0;34m,\u001b[0m\u001b[0;34m'ids'\u001b[0m\u001b[0;34m,\u001b[0m\u001b[0;34m'sources'\u001b[0m\u001b[0;34m,\u001b[0m\u001b[0;34m'types'\u001b[0m\u001b[0;34m,\u001b[0m\u001b[0;34m'nst'\u001b[0m\u001b[0;34m,\u001b[0m\u001b[0;34m'dmin'\u001b[0m\u001b[0;34m,\u001b[0m\u001b[0;34m'rms'\u001b[0m\u001b[0;34m,\u001b[0m\u001b[0;34m'gap'\u001b[0m\u001b[0;34m,\u001b[0m\u001b[0;34m'magType'\u001b[0m\u001b[0;34m]\u001b[0m\u001b[0;34m)\u001b[0m\u001b[0;34m\u001b[0m\u001b[0;34m\u001b[0m\u001b[0m\n\u001b[0m",
      "\u001b[0;31mTypeError\u001b[0m: 'Response' object is not subscriptable"
     ]
    }
   ],
   "source": [
    "quakes = pd.json_normalize(data=data['features'], meta=['mag','place','time','updated','tz','url','detail','felt','cdi','mmi','alert','status','tsunami','sig','net','code','ids','sources','types','nst','dmin','rms','gap','magType'])"
   ]
  },
  {
   "cell_type": "markdown",
   "metadata": {},
   "source": [
    "There are a lot of columns that are essientially useless"
   ]
  },
  {
   "cell_type": "code",
   "execution_count": null,
   "metadata": {
    "scrolled": true
   },
   "outputs": [],
   "source": [
    "quakes.columns = quakes.columns.map(lambda x: x.split(\".\")[-1])\n",
    "\n",
    "quakes.drop(['type', 'updated', 'tz', 'url', 'detail', 'felt', 'cdi', 'mmi', 'alert', 'status', 'net', \n",
    "                     'code', 'sources', 'types', 'nst', 'dmin', 'rms', 'gap', 'magType' ], axis=1, inplace=True)"
   ]
  },
  {
   "cell_type": "markdown",
   "metadata": {},
   "source": [
    "Breakout the coords column"
   ]
  },
  {
   "cell_type": "code",
   "execution_count": null,
   "metadata": {},
   "outputs": [],
   "source": [
    "quakes['longitude'] = quakes.coordinates.str[0]\n",
    "quakes['latitude'] = quakes.coordinates.str[1]\n",
    "quakes['depth'] = quakes.coordinates.str[2]\n",
    "\n",
    "quakes.drop(['coordinates', 'title'], axis=1, inplace=True)"
   ]
  },
  {
   "cell_type": "code",
   "execution_count": null,
   "metadata": {},
   "outputs": [],
   "source": [
    "quakes['datetime'] = pd.to_datetime(quakes['time']).dt.strftime(\"%Y-%m-%d %H:%M\")\n",
    "quakes.drop(['time'], axis=1, inplace=True)"
   ]
  },
  {
   "cell_type": "code",
   "execution_count": null,
   "metadata": {},
   "outputs": [],
   "source": [
    "quakes.round({'longitude': 5, 'latitude': 5, 'depth': 0})\n",
    "quakes.head(2)"
   ]
  },
  {
   "cell_type": "code",
   "execution_count": null,
   "metadata": {},
   "outputs": [],
   "source": [
    "m = folium.Map(\n",
    "    location=[0, 0],\n",
    "    tiles='cartodbpositron',\n",
    "    zoom_start=1.8\n",
    ")"
   ]
  },
  {
   "cell_type": "markdown",
   "metadata": {},
   "source": [
    "Figure out how to get time to display"
   ]
  },
  {
   "cell_type": "code",
   "execution_count": null,
   "metadata": {},
   "outputs": [],
   "source": [
    "fmtr = \"function(num) {return L.Util.formatNum(num, 3);};\"\n",
    "folium.plugins.MousePosition(separator=' / ', prefix=\"Lat/Long: \", lat_formatter=fmtr, lng_formatter=fmtr).add_to(m)"
   ]
  },
  {
   "cell_type": "code",
   "execution_count": null,
   "metadata": {},
   "outputs": [],
   "source": [
    "for i, row in quakes.iterrows():\n",
    "    folium.CircleMarker((row.latitude, row.longitude), radius=row.mag*2.2, \n",
    "                        color='red', weight = 0, opacity =.4, fill=True, fill_color='orange', fill_opacity=.3, \n",
    "                        popup=[f\"Time: {row.datetime},\\n Mag: {row.mag},\\n Depth: {row.depth} km\"]).add_to(m)\n",
    "    "
   ]
  },
  {
   "cell_type": "code",
   "execution_count": null,
   "metadata": {},
   "outputs": [],
   "source": [
    "boundaries = ('data/PB2002_boundaries.json')\n",
    "line_style = {'color': '#FF3333', 'weight': 1, 'opacity':row.mag*1.4}\n",
    "\n",
    "\n",
    "folium.GeoJson(\n",
    "    boundaries,\n",
    "    name='major fault lines',\n",
    "    style_function=lambda x:line_style,\n",
    "    smooth_factor=4.0,\n",
    "      \n",
    ").add_to(m)\n",
    "m"
   ]
  },
  {
   "cell_type": "code",
   "execution_count": null,
   "metadata": {
    "scrolled": true
   },
   "outputs": [],
   "source": []
  }
 ],
 "metadata": {
  "kernelspec": {
   "display_name": "Python 3",
   "language": "python",
   "name": "python3"
  },
  "language_info": {
   "codemirror_mode": {
    "name": "ipython",
    "version": 3
   },
   "file_extension": ".py",
   "mimetype": "text/x-python",
   "name": "python",
   "nbconvert_exporter": "python",
   "pygments_lexer": "ipython3",
   "version": "3.8.2"
  }
 },
 "nbformat": 4,
 "nbformat_minor": 4
}
