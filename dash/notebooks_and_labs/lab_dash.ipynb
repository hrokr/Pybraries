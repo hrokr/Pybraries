{
 "cells": [
  {
   "cell_type": "code",
   "execution_count": 19,
   "metadata": {},
   "outputs": [],
   "source": [
    "import dash\n",
    "from jupyter_dash import JupyterDash\n",
    "import dash_html_components as html\n",
    "\n",
    "app = JupyterDash(__name__)\n",
    "\n",
    "app.layout = html.Div(children = [\n",
    "    html.H1(\"Demo: Plotly Express and Dash\"),\n",
    "    html.H2(\"This is a sub-header, yes I am\")\n",
    "    \n",
    "])\n",
    "\n",
    "app.run_server(mode=\"jupyterlab\", port=8086)"
   ]
  },
  {
   "cell_type": "markdown",
   "metadata": {},
   "source": [
    "This is off to a rough start but I don't think it's due to Dash. The demo shows JupyterDash brings in a live updating window. I am still having to open a new tab, put in the localhost and reload after all the changes. And that's after getting past a wall of error messages. But it's marginally good enough to continue."
   ]
  },
  {
   "cell_type": "code",
   "execution_count": 20,
   "metadata": {},
   "outputs": [],
   "source": [
    "import dash\n",
    "from jupyter_dash import JupyterDash\n",
    "import dash_html_components as html\n",
    "import dash_core_components as dcc\n",
    "from dash.dependencies import Input, Output\n",
    "\n",
    "app = JupyterDash(__name__)\n",
    "\n",
    "app.layout = html.Div(children = [\n",
    "    html.H1(\"Demo: Plotly Express and Dash\"),\n",
    "    html.H2(id=\"the_output\"),\n",
    "    dcc.Input(id=\"the_input\")\n",
    "    \n",
    "])\n",
    "\n",
    "@app.callback(Output('the_output', 'children'),\n",
    "             [Input('the_input', 'value')])\n",
    "\n",
    "def cd(input_value):\n",
    "    return input_value\n",
    "\n",
    "\n",
    "app.run_server(mode=\"jupyterlab\", port=8086)"
   ]
  },
  {
   "cell_type": "markdown",
   "metadata": {},
   "source": [
    "Still working. "
   ]
  },
  {
   "cell_type": "code",
   "execution_count": null,
   "metadata": {},
   "outputs": [],
   "source": [
    "\n"
   ]
  },
  {
   "cell_type": "code",
   "execution_count": 30,
   "metadata": {},
   "outputs": [],
   "source": [
    "import dash\n",
    "from jupyter_dash import JupyterDash\n",
    "import dash_html_components as html\n",
    "import dash_core_components as dcc\n",
    "from dash.dependencies import Input, Output\n",
    "import plotly.express as px\n",
    "\n",
    "df = px.data.gapminder()\n",
    "col_options = [dict(label=x, value=x) for x in df['year'].unique()]\n",
    "\n",
    "\n",
    "app = JupyterDash(__name__)\n",
    "\n",
    "app.layout = html.Div(children = [\n",
    "    html.H1(\"Demo: Plotly Express and Dash\"),\n",
    "    dcc.Dropdown(id='year', value=2007, options=col_options),\n",
    "    dcc.Graph(id=\"graph\", figure={})\n",
    "    \n",
    "])\n",
    "\n",
    "@app.callback(Output('graph', 'figure'),\n",
    "             [Input('year', 'value')])\n",
    "\n",
    "def cd(year):\n",
    "    year = year if year else 2007\n",
    "    df_year = df.query('year == @year')\n",
    "    return px.scatter(df_year, x='gdpPercap', y='lifeExp', size='pop', size_max=60, height=600, color='continent')\n",
    "\n",
    "\n",
    "app.run_server(mode=\"jupyterlab\", port=8086)"
   ]
  },
  {
   "cell_type": "markdown",
   "metadata": {},
   "source": [
    "OK, we had this before with plotly express and a lot less code."
   ]
  },
  {
   "cell_type": "code",
   "execution_count": 45,
   "metadata": {},
   "outputs": [],
   "source": [
    "import dash\n",
    "from jupyter_dash import JupyterDash\n",
    "import dash_html_components as html\n",
    "import dash_core_components as dcc\n",
    "from dash.dependencies import Input, Output\n",
    "import plotly.express as px\n",
    "\n",
    "df = px.data.gapminder()\n",
    "col_options = [dict(label=x, value=x) for x in df['year'].unique()]\n",
    "\n",
    "\n",
    "app = JupyterDash(__name__)\n",
    "\n",
    "app.layout = html.Div(children = [\n",
    "    html.H1(\"Demo: Plotly Express and Dash\"),\n",
    "    dcc.Dropdown(id='year', value=2007, options=col_options),\n",
    "    dcc.Graph(id=\"graph\", figure={}),\n",
    "    dcc.Graph(id=\"graph2\", figure={})\n",
    "    \n",
    "])\n",
    "\n",
    "\n",
    "@app.callback(Output('graph', 'figure'), [Input('year', 'value')])\n",
    "\n",
    "def cb(year):\n",
    "    year = year if year else 2007\n",
    "    df_year = df.query('year == @year')\n",
    "    return px.scatter(df_year, x='gdpPercap', y='lifeExp', size='pop', size_max=60, height=400, color='continent', \n",
    "                     custom_data=[df_year.index]).update_layout(dragmode='lasso')\n",
    "\n",
    "\n",
    "                   \n",
    "@app.callback(Output('graph2', 'figure'),\n",
    "             [Input('year', 'value'), Input('graph', 'selectedData')])\n",
    "\n",
    "def display_selected_data(year, selectedData):\n",
    "    year = year if year else 2007\n",
    "    df_year = df.query('year == @year')\n",
    "    \n",
    "    if selectedData:\n",
    "        indices = [point['customdata'][0]\n",
    "                   for point in selectedData['points']]\n",
    "        df_year = df_year.loc[indices]\n",
    "    \n",
    "    return px.scatter_geo(df_year, locations='iso_alpha', size='pop', height=600)\n",
    "\n",
    "app.run_server(mode=\"jupyterlab\", port=8086)"
   ]
  },
  {
   "cell_type": "code",
   "execution_count": null,
   "metadata": {},
   "outputs": [],
   "source": []
  }
 ],
 "metadata": {
  "kernelspec": {
   "display_name": "Python 3",
   "language": "python",
   "name": "python3"
  },
  "language_info": {
   "codemirror_mode": {
    "name": "ipython",
    "version": 3
   },
   "file_extension": ".py",
   "mimetype": "text/x-python",
   "name": "python",
   "nbconvert_exporter": "python",
   "pygments_lexer": "ipython3",
   "version": "3.8.5"
  }
 },
 "nbformat": 4,
 "nbformat_minor": 4
}
